{
  "nbformat": 4,
  "nbformat_minor": 0,
  "metadata": {
    "colab": {
      "provenance": [],
      "authorship_tag": "ABX9TyN1YlDuF+L2UyabrgIUhxIb",
      "include_colab_link": true
    },
    "kernelspec": {
      "name": "python3",
      "display_name": "Python 3"
    },
    "language_info": {
      "name": "python"
    }
  },
  "cells": [
    {
      "cell_type": "markdown",
      "metadata": {
        "id": "view-in-github",
        "colab_type": "text"
      },
      "source": [
        "<a href=\"https://colab.research.google.com/github/noobProgrammer44/sms_spam_classifier/blob/main/GUI.ipynb\" target=\"_parent\"><img src=\"https://colab.research.google.com/assets/colab-badge.svg\" alt=\"Open In Colab\"/></a>"
      ]
    },
    {
      "cell_type": "code",
      "source": [
        "pip install streamlit"
      ],
      "metadata": {
        "id": "HSQT4x68wFpx"
      },
      "execution_count": null,
      "outputs": []
    },
    {
      "cell_type": "code",
      "execution_count": null,
      "metadata": {
        "colab": {
          "base_uri": "https://localhost:8080/"
        },
        "id": "VJoQhcUEvFKD",
        "outputId": "acd9005d-d4b8-4972-a9c8-490c72eb4bdd"
      },
      "outputs": [
        {
          "output_type": "stream",
          "name": "stdout",
          "text": [
            "Writing app.py\n"
          ]
        }
      ],
      "source": [
        "%%writefile app.py\n",
        "\n",
        "\n",
        "\n",
        "import nltk\n",
        "import string\n",
        "nltk.download(\"stopwords\")\n",
        "from nltk.corpus import stopwords\n",
        "sw = stopwords.words(\"english\")\n",
        "nltk.download('punkt')\n",
        "from sklearn.feature_extraction.text import CountVectorizer,TfidfVectorizer\n",
        "\n",
        "\n",
        "import streamlit as st\n",
        "import pickle\n",
        "import string\n",
        "from nltk.corpus import stopwords\n",
        "import nltk\n",
        "from nltk.stem.porter import PorterStemmer\n",
        "\n",
        "ps = PorterStemmer()\n",
        "\n",
        "\n",
        "def transform_text(text):\n",
        "    text = text.lower()\n",
        "    text = nltk.word_tokenize(text)\n",
        "\n",
        "    y = []\n",
        "    for i in text:\n",
        "        if i.isalnum():\n",
        "            y.append(i)\n",
        "\n",
        "    text = y[:]\n",
        "    y.clear()\n",
        "\n",
        "    for i in text:\n",
        "        if i not in stopwords.words('english') and i not in string.punctuation:\n",
        "            y.append(i)\n",
        "\n",
        "    text = y[:]\n",
        "    y.clear()\n",
        "\n",
        "    for i in text:\n",
        "        y.append(ps.stem(i))\n",
        "\n",
        "    return \" \".join(y)\n",
        "\n",
        "tfidf = pickle.load(open('/vectorizer_final.pkl','rb'))\n",
        "model = pickle.load(open('/model_final.pkl','rb'))\n",
        "\n",
        "st.title(\"Email/SMS Spam Classifier\")\n",
        "\n",
        "input_sms = st.text_area(\"Enter the message\")\n",
        "\n",
        "if st.button('Predict'):\n",
        "\n",
        "    # 1. preprocess\n",
        "    transformed_sms = transform_text(input_sms)\n",
        "    # 2. vectorize\n",
        "    vector_input = tfidf.transform([transformed_sms])\n",
        "    # 3. predict\n",
        "    result = model.predict(vector_input)[0]\n",
        "    # 4. Display\n",
        "    if result == 1:\n",
        "        st.header(\"Spam\")\n",
        "    else:\n",
        "        st.header(\"Not Spam\")"
      ]
    },
    {
      "cell_type": "code",
      "source": [
        "!pip install pyngrok"
      ],
      "metadata": {
        "colab": {
          "base_uri": "https://localhost:8080/"
        },
        "id": "0SmHSgs-wUMq",
        "outputId": "9c1c4401-233c-4a56-d0e8-ca05ab92489a"
      },
      "execution_count": null,
      "outputs": [
        {
          "output_type": "stream",
          "name": "stdout",
          "text": [
            "Looking in indexes: https://pypi.org/simple, https://us-python.pkg.dev/colab-wheels/public/simple/\n",
            "Requirement already satisfied: pyngrok in /usr/local/lib/python3.8/dist-packages (5.2.1)\n",
            "Requirement already satisfied: PyYAML in /usr/local/lib/python3.8/dist-packages (from pyngrok) (6.0)\n"
          ]
        }
      ]
    },
    {
      "cell_type": "code",
      "source": [
        "!ls"
      ],
      "metadata": {
        "colab": {
          "base_uri": "https://localhost:8080/"
        },
        "id": "Li66bZONzvAy",
        "outputId": "b287e66a-8d56-42ad-a2f5-db917489c55d"
      },
      "execution_count": null,
      "outputs": [
        {
          "output_type": "stream",
          "name": "stdout",
          "text": [
            "app.py\tsample_data\n"
          ]
        }
      ]
    },
    {
      "cell_type": "code",
      "source": [
        "!ngrok authtoken  2LldR0r3gGk62d26NGxvfH2apx8_G31BGT3FW9LRJnCdrE4n"
      ],
      "metadata": {
        "colab": {
          "base_uri": "https://localhost:8080/"
        },
        "id": "q-XmhqT-0H8Q",
        "outputId": "3241b2ca-673a-48ed-8ea9-98a1757d0355"
      },
      "execution_count": null,
      "outputs": [
        {
          "output_type": "stream",
          "name": "stdout",
          "text": [
            "Authtoken saved to configuration file: /root/.ngrok2/ngrok.yml\n"
          ]
        }
      ]
    },
    {
      "cell_type": "code",
      "source": [
        "from pyngrok import ngrok"
      ],
      "metadata": {
        "id": "NC7_PvAf0MOK"
      },
      "execution_count": null,
      "outputs": []
    },
    {
      "cell_type": "code",
      "source": [
        "!nohup streamlit run app.py --server.port 80 & \n",
        "publ_url=ngrok.connect(port='80')"
      ],
      "metadata": {
        "id": "C2HvxtyD0xUl",
        "colab": {
          "base_uri": "https://localhost:8080/"
        },
        "outputId": "9e9e0cee-1754-4920-d4fb-6501c0d0371e"
      },
      "execution_count": null,
      "outputs": [
        {
          "output_type": "stream",
          "name": "stdout",
          "text": [
            "nohup: appending output to 'nohup.out'\n"
          ]
        }
      ]
    },
    {
      "cell_type": "code",
      "source": [
        "publ_url"
      ],
      "metadata": {
        "colab": {
          "base_uri": "https://localhost:8080/"
        },
        "id": "o5T5C3sU1Igp",
        "outputId": "e6c87b43-be08-4704-c2d3-6a84fb00deb7"
      },
      "execution_count": null,
      "outputs": [
        {
          "output_type": "execute_result",
          "data": {
            "text/plain": [
              "<NgrokTunnel: \"http://04ff-34-70-225-200.ngrok.io\" -> \"http://localhost:80\">"
            ]
          },
          "metadata": {},
          "execution_count": 64
        }
      ]
    },
    {
      "cell_type": "code",
      "source": [
        "from pyngrok import ngrok\n",
        "tunnels=ngrok.get_tunnels()\n",
        "tunnels"
      ],
      "metadata": {
        "id": "dtAcR5Gt1dYw",
        "colab": {
          "base_uri": "https://localhost:8080/"
        },
        "outputId": "b81493ad-cc75-4235-c39f-6187b1d809fb"
      },
      "execution_count": null,
      "outputs": [
        {
          "output_type": "execute_result",
          "data": {
            "text/plain": [
              "[<NgrokTunnel: \"https://04ff-34-70-225-200.ngrok.io\" -> \"http://localhost:80\">,\n",
              " <NgrokTunnel: \"http://04ff-34-70-225-200.ngrok.io\" -> \"http://localhost:80\">]"
            ]
          },
          "metadata": {},
          "execution_count": 65
        }
      ]
    }
  ]
}